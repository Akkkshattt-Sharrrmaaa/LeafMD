{
 "cells": [
  {
   "cell_type": "code",
   "metadata": {
    "ExecuteTime": {
     "end_time": "2024-04-08T05:55:11.069063Z",
     "start_time": "2024-04-08T05:55:08.728309Z"
    }
   },
   "source": [
    "import numpy as np\n",
    "import keras\n",
    "from matplotlib import pyplot as plt\n",
    "import cv2"
   ],
   "outputs": [],
   "execution_count": 2
  },
  {
   "cell_type": "code",
   "metadata": {
    "ExecuteTime": {
     "end_time": "2024-04-08T05:55:13.730136Z",
     "start_time": "2024-04-08T05:55:13.067179Z"
    }
   },
   "source": [
    "model = keras.models.load_model('./plant_disease_classification_plant_village.keras')"
   ],
   "outputs": [],
   "execution_count": 3
  },
  {
   "cell_type": "code",
   "metadata": {
    "ExecuteTime": {
     "end_time": "2024-04-08T05:55:15.398873Z",
     "start_time": "2024-04-08T05:55:15.394777Z"
    }
   },
   "source": [
    "test_img = cv2.imread('./Data/Blueberry___healthy/image_9.JPG')\n",
    "test_img = cv2.cvtColor(test_img, cv2.COLOR_BGR2RGB)\n",
    "test_img = cv2.resize(test_img, (256, 256))\n",
    "print(test_img.shape)\n",
    "test_img = np.expand_dims(test_img, axis=0)\n",
    "print(test_img.shape)\n"
   ],
   "outputs": [
    {
     "name": "stdout",
     "output_type": "stream",
     "text": [
      "(256, 256, 3)\n",
      "(1, 256, 256, 3)\n"
     ]
    }
   ],
   "execution_count": 4
  },
  {
   "cell_type": "code",
   "metadata": {
    "ExecuteTime": {
     "end_time": "2024-04-08T05:55:19.172886Z",
     "start_time": "2024-04-08T05:55:18.812322Z"
    }
   },
   "source": [
    "prediction = model.predict(test_img)"
   ],
   "outputs": [
    {
     "name": "stdout",
     "output_type": "stream",
     "text": [
      "\u001B[1m1/1\u001B[0m \u001B[32m━━━━━━━━━━━━━━━━━━━━\u001B[0m\u001B[37m\u001B[0m \u001B[1m0s\u001B[0m 335ms/step\n"
     ]
    }
   ],
   "execution_count": 5
  },
  {
   "cell_type": "code",
   "metadata": {
    "ExecuteTime": {
     "end_time": "2024-04-08T05:55:20.407601Z",
     "start_time": "2024-04-08T05:55:20.403856Z"
    }
   },
   "source": [
    "print(type(prediction))\n",
    "print(prediction)\n",
    "predicted_class = np.argmax(prediction)\n",
    "print(predicted_class)"
   ],
   "outputs": [
    {
     "name": "stdout",
     "output_type": "stream",
     "text": [
      "<class 'numpy.ndarray'>\n",
      "[[2.2505572e-04 1.6540083e-03 1.0169703e-12 1.3183968e-02 2.3336843e-07\n",
      "  9.8485488e-01 5.1541392e-05 3.3097750e-11 2.1280720e-11 1.3813879e-20\n",
      "  2.7172653e-11 3.7912146e-20 2.0866443e-19 7.3384976e-17 5.6916015e-24\n",
      "  7.6196643e-16 1.8928680e-12 2.3342106e-10 1.3139609e-15 3.7312354e-12\n",
      "  2.2410332e-13 4.4737517e-12 6.1559904e-09 7.0928736e-12 3.1973330e-15\n",
      "  2.8656599e-08 3.5039929e-13 4.1647632e-13 3.0137373e-05 1.6196031e-19\n",
      "  1.4139713e-16 1.9266718e-11 1.3251993e-07 1.8348480e-08 3.7201457e-14\n",
      "  2.3558612e-12 1.5514813e-16 6.1715666e-13 3.3622699e-10]]\n",
      "5\n"
     ]
    }
   ],
   "execution_count": 6
  }
 ],
 "metadata": {
  "kernelspec": {
   "display_name": "Python 3",
   "language": "python",
   "name": "python3"
  },
  "language_info": {
   "codemirror_mode": {
    "name": "ipython",
    "version": 3
   },
   "file_extension": ".py",
   "mimetype": "text/x-python",
   "name": "python",
   "nbconvert_exporter": "python",
   "pygments_lexer": "ipython3",
   "version": "3.11.7"
  }
 },
 "nbformat": 4,
 "nbformat_minor": 2
}
